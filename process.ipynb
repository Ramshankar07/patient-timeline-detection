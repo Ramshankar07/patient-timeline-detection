{
 "cells": [
  {
   "cell_type": "code",
   "execution_count": 3,
   "metadata": {},
   "outputs": [],
   "source": [
    "import os\n",
    "import pandas as pd\n",
    "from ai21 import AI21Client\n",
    "from ai21.models.chat import ChatMessage, ResponseFormat\n",
    "from multiprocessing import Pool, cpu_count\n",
    "import numpy as np"
   ]
  },
  {
   "cell_type": "code",
   "execution_count": 5,
   "metadata": {},
   "outputs": [],
   "source": [
    "\n",
    "\n",
    "# Retrieve the API key from environment variable\n",
    "api_key = os.getenv('AI21LABS_API_KEY')\n",
    "\n",
    "# Check if the API key is set\n",
    "if not api_key:\n",
    "    raise ValueError(\"API key not found. Please set the AI21_API_KEY environment variable.\")\n",
    "\n",
    "# Set up the AI21 client\n",
    "client = AI21Client(api_key=api_key)\n",
    "\n",
    "def generate_clinical_summary(row):\n",
    "    \"\"\"Generate a clinical summary based on the provided row of data.\"\"\"\n",
    "    # Build context string from the DataFrame row\n",
    "    context = \"\\n\".join(f\"{col}: {row[col]}\" for col in df.columns if pd.notna(row[col]))\n",
    "    \n",
    "    # Define the prompt\n",
    "    prompt = f\"\"\"You are a helpful assistant that generates clinical notes using medical terminology.\n",
    "    Utilize reasoning to analyze the following structured data and provide a detailed, narrative clinical note\n",
    "    reflecting typical communication in clinical notes without suggesting solutions. Use paragraph breaks to separate different aspects of the note.\n",
    "    Data: {context}\n",
    "\n",
    "    <<Sample output of Clinical Note>>:\n",
    "    The patient, with ID 10005817, was administered a single dose of IV antibiotics as per the treatment plan. The administration occurred on December 16, 2132, at 19:50, with a total volume of 500 ml delivered.\n",
    "\n",
    "    The patient weighs 91 kg and was under the care of caregiver ID 4793. The status of the medication administration is noted as \"Finished Running.\"\n",
    "    \n",
    "    Please provide a similar style of clinical note for the given data.\"\"\"\n",
    "\n",
    "    # Create the chat completion\n",
    "    response = client.chat.completions.create(\n",
    "        model=\"jamba-1.5-large\",\n",
    "        messages=[ChatMessage(role=\"user\", content=prompt)],\n",
    "        n=1,\n",
    "        max_tokens=1024,\n",
    "        temperature=0.4,\n",
    "        top_p=1,\n",
    "        response_format=ResponseFormat(type=\"text\"),\n",
    "    )\n",
    "\n",
    "    # Extract and return the generated summary\n",
    "    return response.choices[0].message.content\n"
   ]
  }
 ],
 "metadata": {
  "kernelspec": {
   "display_name": ".venv",
   "language": "python",
   "name": "python3"
  },
  "language_info": {
   "codemirror_mode": {
    "name": "ipython",
    "version": 3
   },
   "file_extension": ".py",
   "mimetype": "text/x-python",
   "name": "python",
   "nbconvert_exporter": "python",
   "pygments_lexer": "ipython3",
   "version": "3.12.6"
  }
 },
 "nbformat": 4,
 "nbformat_minor": 2
}
