{
 "cells": [
  {
   "cell_type": "code",
   "execution_count": 40,
   "metadata": {},
   "outputs": [],
   "source": [
    "import os\n",
    "import pandas as pd\n",
    "from ai21 import AI21Client\n",
    "from ai21.models.chat import ChatMessage, ResponseFormat\n",
    "from multiprocessing import Pool, cpu_count\n",
    "import numpy as np\n",
    "import time\n",
    "import random"
   ]
  },
  {
   "cell_type": "code",
   "execution_count": 125,
   "metadata": {},
   "outputs": [],
   "source": [
    "\n",
    "\n",
    "# Retrieve the API key from environment variable\n",
    "api_key = os.getenv('AI21LABS_API_KEY')\n",
    "\n",
    "# Check if the API key is set\n",
    "if not api_key:\n",
    "    raise ValueError(\"API key not found. Please set the AI21_API_KEY environment variable.\")\n",
    "\n",
    "# Set up the AI21 client\n",
    "client = AI21Client(api_key=api_key)\n",
    "\n",
    "def generate_clinical_summary(row):\n",
    "    \"\"\"Generate a clinical summary based on the provided row of data.\"\"\"\n",
    "    # Build context string from the DataFrame row\n",
    "    context = \"\\n\".join(f\"{col}: {row[col]}\" for col in df1_filtered.columns if pd.notna(row[col]))\n",
    "\n",
    "    # Define the prompt\n",
    "    prompt = f\"\"\"You are a helpful assistant that generates clinical notes using medical terminology.\n",
    "    Utilize reasoning to analyze the following structured data and provide a detailed, narrative clinical note\n",
    "    reflecting typical communication in clinical notes without suggesting solutions. Use paragraph breaks to separate different aspects of the note.\n",
    "    Data: {context}\n",
    "\n",
    "    <<Sample output of Clinical Note>>:\n",
    "    The patient, with ID 10005817, was administered a single dose of IV antibiotics as per the treatment plan. The administration occurred on December 16, 2132, at 19:50, with a total volume of 500 ml delivered.\n",
    "\n",
    "    The patient weighs 91 kg and was under the care of caregiver ID 4793. The status of the medication administration is noted as \"Finished Running.\"\n",
    "    \n",
    "    Please provide a similar style of clinical note for the given data.\"\"\"\n",
    "\n",
    "    # Create the chat completion\n",
    "    response = client.chat.completions.create(\n",
    "        model=\"jamba-1.5-large\",\n",
    "        messages=[ChatMessage(role=\"user\", content=prompt)],\n",
    "        n=1,\n",
    "        max_tokens=1024,\n",
    "        temperature=0.4,\n",
    "        top_p=1,\n",
    "        response_format=ResponseFormat(type=\"text\"),\n",
    "    )\n",
    "\n",
    "\n",
    "    # Extract and return the generated summary\n",
    "    return response.choices[0].message.content\n"
   ]
  },
  {
   "cell_type": "code",
   "execution_count": 6,
   "metadata": {},
   "outputs": [],
   "source": [
    "# Load the CSV file into a DataFrame\n",
    "df = pd.read_csv('datasets/mimic/icu/inputevents.csv')"
   ]
  },
  {
   "cell_type": "code",
   "execution_count": 8,
   "metadata": {},
   "outputs": [],
   "source": [
    "df1= pd.read_csv('datasets/mimic/icu/procedureevents.csv')"
   ]
  },
  {
   "cell_type": "code",
   "execution_count": 151,
   "metadata": {},
   "outputs": [],
   "source": [
    "# Find a subject_id that is present in both df and df1\n",
    "subject_id = df['subject_id'].iloc[2]\n",
    "\n",
    "# Filter df1 for the same subject_id\n",
    "df_filtered = df[df['subject_id'] == subject_id]\n",
    "df1_filtered = df1[df1['subject_id'] == subject_id]\n",
    "\n",
    "# Now you can proceed with your processing"
   ]
  },
  {
   "cell_type": "code",
   "execution_count": 130,
   "metadata": {},
   "outputs": [],
   "source": [
    "# Save df_filtered to a CSV file\n",
    "df_filtered.to_csv('datasets/single_patient/inputevents_filtered.csv', index=False)\n",
    "df1_filtered.to_csv('datasets/single_patient/procedureevents_filtered.csv', index=False)"
   ]
  },
  {
   "cell_type": "code",
   "execution_count": 48,
   "metadata": {},
   "outputs": [],
   "source": [
    "num_processes = 10"
   ]
  },
  {
   "cell_type": "code",
   "execution_count": 71,
   "metadata": {},
   "outputs": [
    {
     "data": {
      "text/plain": [
       "'**Clinical Note:**\\n\\nThe patient, with ID 10005817, was administered a dose of antibiotics as per the treatment plan. The administration occurred on December 15, 2132, at 20:15, with the medication recorded as finished running by 20:16. The total volume delivered was 1.0 dose.\\n\\nThe patient weighs 91.0 kg and was under the care of caregiver ID 92805. The status of the medication administration is noted as \"FinishedRunning.\"'"
      ]
     },
     "execution_count": 71,
     "metadata": {},
     "output_type": "execute_result"
    }
   ],
   "source": [
    "generate_clinical_summary(df_filtered.iloc[1])"
   ]
  },
  {
   "cell_type": "code",
   "execution_count": 117,
   "metadata": {},
   "outputs": [
    {
     "name": "stderr",
     "output_type": "stream",
     "text": [
      "/home/andrei/build/analytiq/patient-timeline-detection/.venv/lib64/python3.12/site-packages/numpy/_core/fromnumeric.py:57: FutureWarning: 'DataFrame.swapaxes' is deprecated and will be removed in a future version. Please use 'DataFrame.transpose' instead.\n",
      "  return bound(*args, **kwds)\n"
     ]
    },
    {
     "ename": "TypeError",
     "evalue": "generate_clinical_summary() missing 1 required positional argument: 'row'",
     "output_type": "error",
     "traceback": [
      "\u001b[0;31m---------------------------------------------------------------------------\u001b[0m",
      "\u001b[0;31mRemoteTraceback\u001b[0m                           Traceback (most recent call last)",
      "\u001b[0;31mRemoteTraceback\u001b[0m: \n\"\"\"\nTraceback (most recent call last):\n  File \"/usr/lib64/python3.12/multiprocessing/pool.py\", line 125, in worker\n    result = (True, func(*args, **kwds))\n                    ^^^^^^^^^^^^^^^^^^^\n  File \"/usr/lib64/python3.12/multiprocessing/pool.py\", line 48, in mapstar\n    return list(map(*args))\n           ^^^^^^^^^^^^^^^^\n  File \"/tmp/ipykernel_47628/850922650.py\", line 12, in process_chunk\n    chunk.at[index, 'clinical_summary'] = generate_clinical_summary(row)\n                                          ^^^^^^^^^^^^^^^^^^^^^^^^^^^^^^\nTypeError: generate_clinical_summary() missing 1 required positional argument: 'row'\n\"\"\"",
      "\nThe above exception was the direct cause of the following exception:\n",
      "\u001b[0;31mTypeError\u001b[0m                                 Traceback (most recent call last)",
      "Cell \u001b[0;32mIn[117], line 29\u001b[0m\n\u001b[1;32m     27\u001b[0m \u001b[38;5;66;03m# Use multiprocessing to apply the function to all rows of the DataFrame\u001b[39;00m\n\u001b[1;32m     28\u001b[0m \u001b[38;5;28;01mwith\u001b[39;00m Pool(num_processes) \u001b[38;5;28;01mas\u001b[39;00m pool:\n\u001b[0;32m---> 29\u001b[0m     results \u001b[38;5;241m=\u001b[39m \u001b[43mpool\u001b[49m\u001b[38;5;241;43m.\u001b[39;49m\u001b[43mmap\u001b[49m\u001b[43m(\u001b[49m\u001b[43mprocess_chunk\u001b[49m\u001b[43m,\u001b[49m\u001b[43m \u001b[49m\u001b[43mdf_chunks\u001b[49m\u001b[43m)\u001b[49m\n\u001b[1;32m     31\u001b[0m \u001b[38;5;66;03m# Combine the results\u001b[39;00m\n\u001b[1;32m     32\u001b[0m df_processed \u001b[38;5;241m=\u001b[39m pd\u001b[38;5;241m.\u001b[39mconcat(results)\n",
      "File \u001b[0;32m/usr/lib64/python3.12/multiprocessing/pool.py:367\u001b[0m, in \u001b[0;36mPool.map\u001b[0;34m(self, func, iterable, chunksize)\u001b[0m\n\u001b[1;32m    362\u001b[0m \u001b[38;5;28;01mdef\u001b[39;00m \u001b[38;5;21mmap\u001b[39m(\u001b[38;5;28mself\u001b[39m, func, iterable, chunksize\u001b[38;5;241m=\u001b[39m\u001b[38;5;28;01mNone\u001b[39;00m):\n\u001b[1;32m    363\u001b[0m \u001b[38;5;250m    \u001b[39m\u001b[38;5;124;03m'''\u001b[39;00m\n\u001b[1;32m    364\u001b[0m \u001b[38;5;124;03m    Apply `func` to each element in `iterable`, collecting the results\u001b[39;00m\n\u001b[1;32m    365\u001b[0m \u001b[38;5;124;03m    in a list that is returned.\u001b[39;00m\n\u001b[1;32m    366\u001b[0m \u001b[38;5;124;03m    '''\u001b[39;00m\n\u001b[0;32m--> 367\u001b[0m     \u001b[38;5;28;01mreturn\u001b[39;00m \u001b[38;5;28;43mself\u001b[39;49m\u001b[38;5;241;43m.\u001b[39;49m\u001b[43m_map_async\u001b[49m\u001b[43m(\u001b[49m\u001b[43mfunc\u001b[49m\u001b[43m,\u001b[49m\u001b[43m \u001b[49m\u001b[43miterable\u001b[49m\u001b[43m,\u001b[49m\u001b[43m \u001b[49m\u001b[43mmapstar\u001b[49m\u001b[43m,\u001b[49m\u001b[43m \u001b[49m\u001b[43mchunksize\u001b[49m\u001b[43m)\u001b[49m\u001b[38;5;241;43m.\u001b[39;49m\u001b[43mget\u001b[49m\u001b[43m(\u001b[49m\u001b[43m)\u001b[49m\n",
      "File \u001b[0;32m/usr/lib64/python3.12/multiprocessing/pool.py:774\u001b[0m, in \u001b[0;36mApplyResult.get\u001b[0;34m(self, timeout)\u001b[0m\n\u001b[1;32m    772\u001b[0m     \u001b[38;5;28;01mreturn\u001b[39;00m \u001b[38;5;28mself\u001b[39m\u001b[38;5;241m.\u001b[39m_value\n\u001b[1;32m    773\u001b[0m \u001b[38;5;28;01melse\u001b[39;00m:\n\u001b[0;32m--> 774\u001b[0m     \u001b[38;5;28;01mraise\u001b[39;00m \u001b[38;5;28mself\u001b[39m\u001b[38;5;241m.\u001b[39m_value\n",
      "\u001b[0;31mTypeError\u001b[0m: generate_clinical_summary() missing 1 required positional argument: 'row'"
     ]
    }
   ],
   "source": [
    "# Define the number of parallel processes\n",
    "\n",
    "# Split the DataFrame into chunks\n",
    "df_chunks = np.array_split(df_filtered, num_processes)\n",
    "\n",
    "# Function to process a chunk of the DataFrame\n",
    "def process_chunk(chunk):\n",
    "    # Introduce a random delay\n",
    "    time.sleep(random.uniform(0, 1))\n",
    "    \n",
    "    for index, row in chunk.iterrows():\n",
    "        chunk.at[index, 'clinical_summary'] = generate_clinical_summary(row)\n",
    "        print(\".\", end=\"\", flush=True)\n",
    "    #chunk['clinical_summary'] = chunk.apply(generate_clinical_summary, axis=1)\n",
    "    return chunk\n",
    "\n",
    "# Use multiprocessing to apply the function to all rows of the DataFrame\n",
    "with Pool(num_processes) as pool:\n",
    "    results = pool.map(process_chunk, df_chunks)\n",
    "\n",
    "# Combine the results\n",
    "df_processed = pd.concat(results)\n"
   ]
  },
  {
   "cell_type": "code",
   "execution_count": 55,
   "metadata": {},
   "outputs": [
    {
     "name": "stdout",
     "output_type": "stream",
     "text": [
      "Clinical summaries generated and saved to datasets/single_patient/inputevents_filtered_with_summary.csv\n"
     ]
    }
   ],
   "source": [
    "# Save the updated DataFrame to a new CSV file\n",
    "output_file = 'datasets/single_patient/inputevents_filtered_with_summary2.csv'\n",
    "df_processed.to_csv(output_file, index=False)\n",
    "\n",
    "print(f\"Clinical summaries generated and saved to {output_file}\")"
   ]
  },
  {
   "cell_type": "code",
   "execution_count": 78,
   "metadata": {},
   "outputs": [
    {
     "data": {
      "text/plain": [
       "Index(['subject_id', 'hadm_id', 'stay_id', 'caregiver_id', 'starttime',\n",
       "       'endtime', 'storetime', 'itemid', 'value', 'valueuom', 'location',\n",
       "       'locationcategory', 'orderid', 'linkorderid', 'ordercategoryname',\n",
       "       'ordercategorydescription', 'patientweight', 'isopenbag',\n",
       "       'continueinnextdept', 'statusdescription', 'ORIGINALAMOUNT',\n",
       "       'ORIGINALRATE'],\n",
       "      dtype='object')"
      ]
     },
     "execution_count": 78,
     "metadata": {},
     "output_type": "execute_result"
    }
   ],
   "source": [
    "df1_filtered.keys()"
   ]
  },
  {
   "cell_type": "code",
   "execution_count": 153,
   "metadata": {},
   "outputs": [
    {
     "data": {
      "text/plain": [
       "'**Clinical Note:**\\n\\nThe patient, with ID 10005817, was placed on mechanical ventilation as per the treatment plan. The ventilation started on January 6, 2135, at 08:34 and ended on January 19, 2135, at 14:00. The total duration of ventilation was 19046 minutes.\\n\\nThe patient weighs 88.8 kg and was under the care of caregiver ID 99850. The order category for this treatment is classified under \"Ventilation\" with a description of \"ContinuousProcess.\" The status of the ventilation is noted as \"FinishedRunning.\" The original amount and rate of ventilation were recorded as 19046.0 and 1, respectively.'"
      ]
     },
     "execution_count": 153,
     "metadata": {},
     "output_type": "execute_result"
    }
   ],
   "source": [
    "# Create an \"amount\" column populated with 0\n",
    "generate_clinical_summary(df1_filtered.iloc[0])"
   ]
  },
  {
   "cell_type": "code",
   "execution_count": 154,
   "metadata": {},
   "outputs": [
    {
     "name": "stderr",
     "output_type": "stream",
     "text": [
      "/home/andrei/build/analytiq/patient-timeline-detection/.venv/lib64/python3.12/site-packages/numpy/_core/fromnumeric.py:57: FutureWarning: 'DataFrame.swapaxes' is deprecated and will be removed in a future version. Please use 'DataFrame.transpose' instead.\n",
      "  return bound(*args, **kwds)\n"
     ]
    }
   ],
   "source": [
    "df1_filtered_chunks = np.array_split(df1_filtered, num_processes)"
   ]
  },
  {
   "cell_type": "code",
   "execution_count": 155,
   "metadata": {},
   "outputs": [
    {
     "name": "stdout",
     "output_type": "stream",
     "text": [
      "............................................."
     ]
    }
   ],
   "source": [
    "# Use multiprocessing to apply the function to all rows of the DataFrame\n",
    "with Pool(num_processes) as pool:\n",
    "    results = pool.map(process_chunk, df1_filtered_chunks)\n",
    "\n",
    "# Combine the results\n",
    "df1_processed = pd.concat(results)"
   ]
  },
  {
   "cell_type": "code",
   "execution_count": 158,
   "metadata": {},
   "outputs": [
    {
     "name": "stdout",
     "output_type": "stream",
     "text": [
      "Clinical summaries generated and saved to datasets/single_patient/procedureevents_filtered_with_summary3.csv\n"
     ]
    }
   ],
   "source": [
    "# Save the updated DataFrame to a new CSV file\n",
    "output_file = 'datasets/single_patient/procedureevents_filtered_with_summary3.csv'\n",
    "df1_processed.to_csv(output_file, index=False)\n",
    "\n",
    "print(f\"Clinical summaries generated and saved to {output_file}\")"
   ]
  },
  {
   "cell_type": "code",
   "execution_count": 148,
   "metadata": {},
   "outputs": [],
   "source": [
    "def generate_clinical_overall_summary(df):\n",
    "    \"\"\"Generate a clinical summary based on the provided row of data.\"\"\"\n",
    "    # Dump the clinical_summary column into a string\n",
    "    context = \"\\n\".join(df.clinical_summary.to_string())\n",
    "\n",
    "    # Define the prompt\n",
    "    prompt = f\"\"\"You are a helpful assistant that generates clinical notes using medical terminology.\n",
    "    Utilize reasoning to analyze the following structured data and provide a detailed, narrative clinical note\n",
    "    reflecting typical communication in clinical notes without suggesting solutions. Use paragraph breaks to separate different aspects of the note.\n",
    "    Data: {context}\n",
    "\n",
    "    Please provide a similar style of clinical note for the given data.\n",
    "    \n",
    "    Include dates and times in the narrative. Highlight the most important procedures\n",
    "    \"\"\"\n",
    "\n",
    "    # Create the chat completion\n",
    "    response = client.chat.completions.create(\n",
    "        model=\"jamba-1.5-large\",\n",
    "        messages=[ChatMessage(role=\"user\", content=prompt)],\n",
    "        n=1,\n",
    "        max_tokens=4048,\n",
    "        temperature=0.4,\n",
    "        top_p=1,\n",
    "        response_format=ResponseFormat(type=\"text\"),\n",
    "    )\n",
    "\n",
    "\n",
    "    # Extract and return the generated summary\n",
    "    return response.choices[0].message.content"
   ]
  },
  {
   "cell_type": "code",
   "execution_count": 152,
   "metadata": {},
   "outputs": [
    {
     "data": {
      "text/plain": [
       "'Clinical Note:\\n\\nThe patient, with ID 10005817, underwent a procedure on 2023-05-15 at 10:00 AM. The procedure involved the administration of medication, specifically 500 mg of Azithromycin, which was given intravenously. The patient was monitored for any adverse reactions post-administration.\\n\\nOn 2023-05-16 at 08:00 AM, the patient was administered a second dose of Azithromycin, maintaining the same dosage and route of administration. Vital signs were closely monitored, and no immediate adverse reactions were noted.\\n\\nThe patient, with ID 10005817, was administered a third dose of Azithromycin on 2023-05-17 at 08:00 AM, continuing the same dosage and route. The patient remained stable, with no significant changes in vital signs or adverse reactions reported.\\n\\nThe patient, with ID 10005817, was discharged on 2023-05-18 at 12:00 PM after completing the course of Azithromycin. The patient was advised to follow up with their primary care physician within the next week.'"
      ]
     },
     "execution_count": 152,
     "metadata": {},
     "output_type": "execute_result"
    }
   ],
   "source": [
    "generate_clinical_overall_summary(df1_processed)"
   ]
  },
  {
   "cell_type": "code",
   "execution_count": 159,
   "metadata": {},
   "outputs": [],
   "source": [
    "# Save to a file\n",
    "with open('datasets/single_patient/procedureevents_filtered_with_summary3_overall.txt', 'w') as f:\n",
    "    f.write(generate_clinical_overall_summary(df1_processed))\n"
   ]
  }
 ],
 "metadata": {
  "kernelspec": {
   "display_name": ".venv",
   "language": "python",
   "name": "python3"
  },
  "language_info": {
   "codemirror_mode": {
    "name": "ipython",
    "version": 3
   },
   "file_extension": ".py",
   "mimetype": "text/x-python",
   "name": "python",
   "nbconvert_exporter": "python",
   "pygments_lexer": "ipython3",
   "version": "3.12.6"
  }
 },
 "nbformat": 4,
 "nbformat_minor": 2
}
